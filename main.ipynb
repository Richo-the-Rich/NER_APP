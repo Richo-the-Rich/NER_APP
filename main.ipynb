{
 "cells": [
  {
   "cell_type": "code",
   "execution_count": 28,
   "id": "3f07479e-860f-42c8-91b5-4057c9a05af4",
   "metadata": {},
   "outputs": [],
   "source": [
    "import numpy as np\n",
    "import spacy\n",
    "from spacy.matcher import PhraseMatcher\n",
    "from sklearn.model_selection import train_test_split\n",
    "import random\n",
    "from spacy.util import minibatch, compounding\n",
    "from spacy.training.example import Example\n",
    "\n",
    "nlp = spacy.load(\"en_core_web_sm\")\n",
    "matcher = PhraseMatcher(nlp.vocab)\n",
    "ner = nlp.get_pipe(\"ner\")\n",
    "import warnings\n",
    "warnings.filterwarnings('ignore')"
   ]
  },
  {
   "cell_type": "markdown",
   "id": "2e7d7186",
   "metadata": {},
   "source": [
    "### Reading files"
   ]
  },
  {
   "cell_type": "code",
   "execution_count": 29,
   "id": "9da05900-2222-4ae8-b422-dd7422d247cd",
   "metadata": {},
   "outputs": [],
   "source": [
    "with open(r\"data\\cups.txt\", encoding='utf-8') as file: \n",
    "    cups_data = file.readlines()\n",
    "    \n",
    "with open(r\"data\\table.txt\", encoding='utf-8') as file: \n",
    "    table_data = file.readlines()\n",
    "    \n",
    "with open(r\"data\\chair.txt\", encoding='utf-8') as file: \n",
    "    chair_data = file.readlines()\n",
    "    \n",
    "with open(r\"data\\bottle.txt\", encoding='utf-8') as file: \n",
    "    bottle_data = file.readlines()"
   ]
  },
  {
   "cell_type": "markdown",
   "id": "e8a77675",
   "metadata": {},
   "source": [
    "### Converting into lower case and remove white spaces "
   ]
  },
  {
   "cell_type": "code",
   "execution_count": 30,
   "id": "978fc6e9-dbad-450b-830a-8cc8de628d87",
   "metadata": {},
   "outputs": [],
   "source": [
    "cups_data = [sent.lower().replace(\"\\n\", \"\").strip() for sent in cups_data if sent.lower().replace(\"\\n\", \"\").strip() != \"\"]\n",
    "table_data = [sent.lower().replace(\"\\n\", \"\").strip() for sent in table_data if sent.lower().replace(\"\\n\", \"\").strip() != \"\"]\n",
    "bottle_data = [sent.lower().replace(\"\\n\", \"\").strip() for sent in bottle_data if sent.lower().replace(\"\\n\", \"\").strip() != \"\"]\n",
    "chair_data = [sent.lower().replace(\"\\n\", \"\").strip() for sent in chair_data if sent.lower().replace(\"\\n\", \"\").strip() != \"\"]"
   ]
  },
  {
   "cell_type": "markdown",
   "id": "9ce3041e",
   "metadata": {},
   "source": [
    "### Creating tokens"
   ]
  },
  {
   "cell_type": "code",
   "execution_count": 31,
   "id": "a471eaba-65aa-4c76-87f5-2d77c7181c6c",
   "metadata": {},
   "outputs": [],
   "source": [
    "cups_data_tokens = [sent.split(\" \") for sent in cups_data]\n",
    "table_data_tokens = [sent.split(\" \") for sent in table_data]\n",
    "bottle_data_tokens = [sent.split(\" \") for sent in bottle_data]\n",
    "chair_data_tokens = [sent.split(\" \") for sent in chair_data]"
   ]
  },
  {
   "cell_type": "markdown",
   "id": "e794d1e3",
   "metadata": {},
   "source": [
    "### Matching and the patterns"
   ]
  },
  {
   "cell_type": "code",
   "execution_count": 32,
   "id": "55e8f5ab-f30d-4275-b404-0ab5155d70e8",
   "metadata": {},
   "outputs": [],
   "source": [
    "patterns_cups = list(np.unique([str(token) for sent in cups_data_tokens for token in sent if \"cup\" in token]))\n",
    "patterns_table = list(np.unique([str(token) for sent in table_data_tokens for token in sent if \"table\" in token]))\n",
    "patterns_bottle = list(np.unique([str(token) for sent in bottle_data_tokens for token in sent if \"bottle\" in token]))\n",
    "patterns_chair = list(np.unique([str(token) for sent in chair_data_tokens for token in sent if \"chair\" in token]))"
   ]
  },
  {
   "cell_type": "markdown",
   "id": "4afb0cfe",
   "metadata": {},
   "source": [
    "### Creating the model data for the ner"
   ]
  },
  {
   "cell_type": "code",
   "execution_count": 33,
   "id": "af910062-a973-4d8e-b993-32e9567be1d6",
   "metadata": {},
   "outputs": [],
   "source": [
    "lemma = lambda value: ''.join([w.lemma_ for w in nlp(value)])\n",
    "patterns = [\"cup\", \"table\", \"chair\", \"bottle\"]\n",
    "def get_model_data(data, patterns):\n",
    "    model_data = []\n",
    "    for sent in data:         # Iteration over the each sentence\n",
    "        entities = []\n",
    "        for pattern in patterns:  # Iteration over each pattern\n",
    "            match = [token for token in sent.split(\" \") if pattern in token] # Finding the match token\n",
    "            if len(match) > 0:\n",
    "                start = sent.find(pattern)\n",
    "                if start > 0:\n",
    "                    if match[0][-1] != 's':\n",
    "                        m = match[0][:len(pattern)]\n",
    "                        end = start + len(m)\n",
    "                        entities.append((start, end, lemma(m).capitalize()))\n",
    "                    else:\n",
    "                        end = start + len(match[0])\n",
    "                        entities.append((start, end, lemma(match[0]).capitalize()))\n",
    "                        \n",
    "                \n",
    "        model_data.append((sent, {\"entities\": entities}))\n",
    "    return model_data"
   ]
  },
  {
   "cell_type": "markdown",
   "id": "366dde0e",
   "metadata": {},
   "source": [
    "### Getting the complete datasets"
   ]
  },
  {
   "cell_type": "code",
   "execution_count": 34,
   "id": "ecbb8c11-389b-4fc0-97ba-7917b1ee1b3f",
   "metadata": {},
   "outputs": [],
   "source": [
    "full_data = cups_data + table_data + chair_data + bottle_data\n",
    "patterns_data = patterns_bottle + patterns_chair + patterns_cups + patterns_table"
   ]
  },
  {
   "cell_type": "code",
   "execution_count": 35,
   "id": "c6574d53-bc5f-4037-8bf3-55c15a159d2b",
   "metadata": {},
   "outputs": [],
   "source": [
    "model_data = get_model_data(full_data, patterns)"
   ]
  },
  {
   "cell_type": "markdown",
   "id": "8f842f91",
   "metadata": {},
   "source": [
    "### Adding labels to the ner model entities"
   ]
  },
  {
   "cell_type": "code",
   "execution_count": 36,
   "id": "65a925e7-f75e-4a49-ba3a-cd613c56fc51",
   "metadata": {},
   "outputs": [],
   "source": [
    "for _, annotations in model_data:\n",
    "    for ent in annotations.get(\"entities\"):\n",
    "        ner.add_label(ent[2])"
   ]
  },
  {
   "cell_type": "markdown",
   "id": "6fd2d75d",
   "metadata": {},
   "source": [
    "### Filter the pipe"
   ]
  },
  {
   "cell_type": "code",
   "execution_count": 37,
   "id": "df9b7394-ebcf-4dce-9d6d-002fa21c708e",
   "metadata": {},
   "outputs": [],
   "source": [
    "pipe_exceptions = [\"ner\", \"trf_wordpiecer\", \"trf_tok2vec\"]\n",
    "unaffected_pipes = [pipe for pipe in nlp.pipe_names if pipe not in pipe_exceptions]"
   ]
  },
  {
   "cell_type": "code",
   "execution_count": 38,
   "id": "f87e08f2-31b5-4184-a02e-77f888fc986d",
   "metadata": {},
   "outputs": [],
   "source": [
    "# Shuffling the dataset\n",
    "random.shuffle(model_data)"
   ]
  },
  {
   "cell_type": "code",
   "execution_count": 39,
   "id": "52909d3d-4bdd-44df-9eba-a85734e52c4a",
   "metadata": {},
   "outputs": [],
   "source": [
    "# Generating the training and the test data\n",
    "train_data, test_data = train_test_split(model_data, test_size=0.3)"
   ]
  },
  {
   "cell_type": "markdown",
   "id": "768a506c",
   "metadata": {},
   "source": [
    "### Building the NER model"
   ]
  },
  {
   "cell_type": "code",
   "execution_count": 40,
   "id": "c3aa1047-b7d6-40fa-a309-0384ac631204",
   "metadata": {},
   "outputs": [],
   "source": [
    "with nlp.disable_pipes(*unaffected_pipes):\n",
    "\n",
    "  # Training for 10 iterations\n",
    "  for iteration in range(10):\n",
    "\n",
    "    # shufling examples  before every iteration\n",
    "    random.shuffle(train_data)\n",
    "    losses = {}\n",
    "    # batch up the examples using spaCy's minibatch\n",
    "#     batches = minibatch(TRAIN_DATA, size=compounding(4.0, 32.0, 1.001))\n",
    "    batches = minibatch(train_data, size=40)\n",
    "    for batch in batches:\n",
    "        texts, annotations = zip(*batch)\n",
    "        example = []\n",
    "        for i in range(len(texts)):\n",
    "            doc = nlp.make_doc(texts[i])\n",
    "            example.append(Example.from_dict(doc, annotations[i]))\n",
    "        nlp.update(\n",
    "                    example,\n",
    "                    drop=0.5,  # dropout - make it harder to memorise data\n",
    "                    losses=losses,\n",
    "                )\n",
    "        # print(\"Losses\", losses)"
   ]
  },
  {
   "cell_type": "markdown",
   "id": "513fa8b6",
   "metadata": {},
   "source": [
    "### Displacy for checking the model accuaracy"
   ]
  },
  {
   "cell_type": "code",
   "execution_count": 41,
   "id": "59af6d9e-646f-4293-86a3-d4f862801698",
   "metadata": {},
   "outputs": [
    {
     "name": "stdout",
     "output_type": "stream",
     "text": [
      "Entities [('cup', 'Cup'), ('chair', 'Chair'), ('table', 'Table')]\n"
     ]
    },
    {
     "data": {
      "text/html": [
       "<span class=\"tex2jax_ignore\"><div class=\"entities\" style=\"line-height: 2.5; direction: ltr\">I was having a \n",
       "<mark class=\"entity\" style=\"background: #ddd; padding: 0.45em 0.6em; margin: 0 0.25em; line-height: 1; border-radius: 0.35em;\">\n",
       "    cup\n",
       "    <span style=\"font-size: 0.8em; font-weight: bold; line-height: 1; border-radius: 0.35em; vertical-align: middle; margin-left: 0.5rem\">Cup</span>\n",
       "</mark>\n",
       " of tea sitting in a \n",
       "<mark class=\"entity\" style=\"background: #ddd; padding: 0.45em 0.6em; margin: 0 0.25em; line-height: 1; border-radius: 0.35em;\">\n",
       "    chair\n",
       "    <span style=\"font-size: 0.8em; font-weight: bold; line-height: 1; border-radius: 0.35em; vertical-align: middle; margin-left: 0.5rem\">Chair</span>\n",
       "</mark>\n",
       " just beside the \n",
       "<mark class=\"entity\" style=\"background: #ddd; padding: 0.45em 0.6em; margin: 0 0.25em; line-height: 1; border-radius: 0.35em;\">\n",
       "    table\n",
       "    <span style=\"font-size: 0.8em; font-weight: bold; line-height: 1; border-radius: 0.35em; vertical-align: middle; margin-left: 0.5rem\">Table</span>\n",
       "</mark>\n",
       ".</div></span>"
      ],
      "text/plain": [
       "<IPython.core.display.HTML object>"
      ]
     },
     "metadata": {},
     "output_type": "display_data"
    }
   ],
   "source": [
    "doc = nlp(\"I was having a cup of tea sitting in a chair just beside the table.\")\n",
    "print(\"Entities\", [(ent.text, ent.label_) for ent in doc.ents])\n",
    "\n",
    "\n",
    "from spacy import displacy\n",
    "\n",
    "# options = {\"compact\": True, \"bg\": \"#09a3d5\",\n",
    "#            \"color\": \"blue\", \"font\": \"Source Sans Pro\"}\n",
    "# displacy.render(doc, style=\"ent\", options=options)\n",
    "colors = {\"ORG\": \"linear-gradient(90deg, #aa9cfc, #fc9ce7)\"}\n",
    "options = {\"ents\": [\"Cup\",\"Chair\",\"Table\",\"Bottle\"], \"colors\": colors}\n",
    "displacy.render(doc, style=\"ent\", options=options)\n",
    "# displacy.render(doc, style=\"ent\")"
   ]
  },
  {
   "cell_type": "markdown",
   "id": "17018c8f",
   "metadata": {},
   "source": [
    "### Saving the model by using the disk serializer"
   ]
  },
  {
   "cell_type": "code",
   "execution_count": 43,
   "id": "674d4321-f7ea-41f4-bbbc-2092f2ef8f46",
   "metadata": {},
   "outputs": [],
   "source": [
    "# save your model\n",
    "nlp.to_disk(\"my-model\") # creates a directory at this path"
   ]
  }
 ],
 "metadata": {
  "kernelspec": {
   "display_name": "Python 3.10.4 ('tf_cpu')",
   "language": "python",
   "name": "python3"
  },
  "language_info": {
   "codemirror_mode": {
    "name": "ipython",
    "version": 3
   },
   "file_extension": ".py",
   "mimetype": "text/x-python",
   "name": "python",
   "nbconvert_exporter": "python",
   "pygments_lexer": "ipython3",
   "version": "3.10.4"
  },
  "vscode": {
   "interpreter": {
    "hash": "aeae364de4c5b8e29779aae6a2e1c6021ef86866927cd4a2b4c6b0e786d3b074"
   }
  }
 },
 "nbformat": 4,
 "nbformat_minor": 5
}
